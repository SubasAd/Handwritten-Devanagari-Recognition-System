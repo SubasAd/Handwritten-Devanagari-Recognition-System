{
 "cells": [
  {
   "cell_type": "code",
   "execution_count": 2,
   "id": "0a2ce0e6",
   "metadata": {},
   "outputs": [
    {
     "name": "stdout",
     "output_type": "stream",
     "text": [
      "Requirement already satisfied: imgaug in c:\\users\\xrexn\\anaconda3\\envs\\shapes\\lib\\site-packages (0.2.9)\n",
      "Requirement already satisfied: scikit-image>=0.11.0 in c:\\users\\xrexn\\anaconda3\\envs\\shapes\\lib\\site-packages (from imgaug) (0.15.0)\n",
      "Requirement already satisfied: scipy in c:\\users\\xrexn\\anaconda3\\envs\\shapes\\lib\\site-packages (from imgaug) (1.3.0)\n",
      "Requirement already satisfied: numpy>=1.15.0 in c:\\users\\xrexn\\anaconda3\\envs\\shapes\\lib\\site-packages (from imgaug) (1.16.4)\n",
      "Requirement already satisfied: Shapely in c:\\users\\xrexn\\anaconda3\\envs\\shapes\\lib\\site-packages (from imgaug) (1.7.0)\n",
      "Requirement already satisfied: six in c:\\users\\xrexn\\anaconda3\\envs\\shapes\\lib\\site-packages (from imgaug) (1.12.0)\n",
      "Requirement already satisfied: opencv-python in c:\\users\\xrexn\\anaconda3\\envs\\shapes\\lib\\site-packages (from imgaug) (4.1.0.25)\n",
      "Requirement already satisfied: matplotlib in c:\\users\\xrexn\\anaconda3\\envs\\shapes\\lib\\site-packages (from imgaug) (3.1.0)\n",
      "Requirement already satisfied: Pillow in c:\\users\\xrexn\\anaconda3\\envs\\shapes\\lib\\site-packages (from imgaug) (6.2.0)\n",
      "Requirement already satisfied: imageio in c:\\users\\xrexn\\anaconda3\\envs\\shapes\\lib\\site-packages (from imgaug) (2.5.0)\n",
      "Requirement already satisfied: PyWavelets>=0.4.0 in c:\\users\\xrexn\\anaconda3\\envs\\shapes\\lib\\site-packages (from scikit-image>=0.11.0->imgaug) (1.0.3)\n",
      "Requirement already satisfied: networkx>=2.0 in c:\\users\\xrexn\\anaconda3\\envs\\shapes\\lib\\site-packages (from scikit-image>=0.11.0->imgaug) (2.3)\n",
      "Requirement already satisfied: decorator>=4.3.0 in c:\\users\\xrexn\\anaconda3\\envs\\shapes\\lib\\site-packages (from networkx>=2.0->scikit-image>=0.11.0->imgaug) (4.4.0)\n",
      "Requirement already satisfied: pyparsing!=2.0.4,!=2.1.2,!=2.1.6,>=2.0.1 in c:\\users\\xrexn\\anaconda3\\envs\\shapes\\lib\\site-packages (from matplotlib->imgaug) (2.4.0)\n",
      "Requirement already satisfied: python-dateutil>=2.1 in c:\\users\\xrexn\\anaconda3\\envs\\shapes\\lib\\site-packages (from matplotlib->imgaug) (2.8.0)\n",
      "Requirement already satisfied: kiwisolver>=1.0.1 in c:\\users\\xrexn\\anaconda3\\envs\\shapes\\lib\\site-packages (from matplotlib->imgaug) (1.1.0)\n",
      "Requirement already satisfied: cycler>=0.10 in c:\\users\\xrexn\\anaconda3\\envs\\shapes\\lib\\site-packages (from matplotlib->imgaug) (0.10.0)\n",
      "Requirement already satisfied: setuptools in c:\\users\\xrexn\\anaconda3\\envs\\shapes\\lib\\site-packages (from kiwisolver>=1.0.1->matplotlib->imgaug) (58.0.4)\n"
     ]
    }
   ],
   "source": [
    "!pip install imgaug"
   ]
  },
  {
   "cell_type": "code",
   "execution_count": 3,
   "id": "da9f0d32",
   "metadata": {},
   "outputs": [
    {
     "ename": "ModuleNotFoundError",
     "evalue": "No module named 'imgaug'",
     "output_type": "error",
     "traceback": [
      "\u001b[1;31m---------------------------------------------------------------------------\u001b[0m",
      "\u001b[1;31mModuleNotFoundError\u001b[0m                       Traceback (most recent call last)",
      "\u001b[1;32m~\\AppData\\Local\\Temp\\ipykernel_11476\\3147183907.py\u001b[0m in \u001b[0;36m<module>\u001b[1;34m\u001b[0m\n\u001b[0;32m      5\u001b[0m \u001b[1;32mimport\u001b[0m \u001b[0mjson\u001b[0m\u001b[1;33m\u001b[0m\u001b[1;33m\u001b[0m\u001b[0m\n\u001b[0;32m      6\u001b[0m \u001b[1;32mimport\u001b[0m \u001b[0mnumpy\u001b[0m \u001b[1;32mas\u001b[0m \u001b[0mnp\u001b[0m\u001b[1;33m\u001b[0m\u001b[1;33m\u001b[0m\u001b[0m\n\u001b[1;32m----> 7\u001b[1;33m \u001b[1;32mimport\u001b[0m \u001b[0mimgaug\u001b[0m \u001b[1;32mas\u001b[0m \u001b[0mia\u001b[0m\u001b[1;33m\u001b[0m\u001b[1;33m\u001b[0m\u001b[0m\n\u001b[0m\u001b[0;32m      8\u001b[0m \u001b[1;32mfrom\u001b[0m \u001b[0mimgaug\u001b[0m \u001b[1;32mimport\u001b[0m \u001b[0maugmenters\u001b[0m \u001b[1;32mas\u001b[0m \u001b[0miaa\u001b[0m\u001b[1;33m\u001b[0m\u001b[1;33m\u001b[0m\u001b[0m\n",
      "\u001b[1;31mModuleNotFoundError\u001b[0m: No module named 'imgaug'"
     ]
    }
   ],
   "source": [
    "import os\n",
    "import cv2\n",
    "import matplotlib.pyplot as plt\n",
    "from PIL import Image\n",
    "import json\n",
    "import numpy as np\n",
    "import imgaug as ia\n",
    "from imgaug import augmenters as iaa"
   ]
  },
  {
   "cell_type": "code",
   "execution_count": null,
   "id": "a16a8ba9",
   "metadata": {},
   "outputs": [],
   "source": []
  }
 ],
 "metadata": {
  "kernelspec": {
   "display_name": "shapes",
   "language": "python",
   "name": "shapes"
  },
  "language_info": {
   "codemirror_mode": {
    "name": "ipython",
    "version": 3
   },
   "file_extension": ".py",
   "mimetype": "text/x-python",
   "name": "python",
   "nbconvert_exporter": "python",
   "pygments_lexer": "ipython3",
   "version": "3.9.13"
  }
 },
 "nbformat": 4,
 "nbformat_minor": 5
}
